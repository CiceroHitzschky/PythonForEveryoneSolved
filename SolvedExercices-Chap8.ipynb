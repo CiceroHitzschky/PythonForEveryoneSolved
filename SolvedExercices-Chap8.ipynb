{
 "cells": [
  {
   "cell_type": "markdown",
   "id": "4e782d2b",
   "metadata": {},
   "source": [
    "# Chapter 8: Lists\n"
   ]
  },
  {
   "cell_type": "markdown",
   "id": "57b10598",
   "metadata": {},
   "source": [
    "## Exercise 1: Write a function called <font color =\"red\"> chop</font> that takes a list and modifies it, removing the first and last elements, and returns <font color =\"red\"> None</font>. Then write a function called <font color =\"red\"> middle </font> that takes a list and returns a new list that contains all but the first and last elements.\n",
    "\n"
   ]
  },
  {
   "cell_type": "code",
   "execution_count": 67,
   "id": "35b4bdca",
   "metadata": {},
   "outputs": [],
   "source": [
    "# Answer \n",
    "def chop(lista):\n",
    "    lista.remove(lista[0])\n",
    "    tam = len(lista)\n",
    "    lista.remove(lista[tam-1])\n",
    "    return None\n",
    "\n",
    "def middle(lista):\n",
    "    lista.remove(lista[0])\n",
    "    tam = len(lista)\n",
    "    lista.remove(lista[tam-1])\n",
    "    return lista "
   ]
  },
  {
   "cell_type": "code",
   "execution_count": 70,
   "id": "44ae321a",
   "metadata": {},
   "outputs": [
    {
     "name": "stdout",
     "output_type": "stream",
     "text": [
      "['b', 'c', 'd', 2, 5, 'kjfsaj', 54321]\n"
     ]
    }
   ],
   "source": [
    "lista = ['a','b', 'c','d',2,5,'kjfsaj',54321,'65']\n",
    "\n",
    "print(middle(lista))\n",
    "chop(lista)"
   ]
  },
  {
   "cell_type": "markdown",
   "id": "e12bc5c6",
   "metadata": {},
   "source": [
    "## Exercise 2: Figure out which line of the below program is still not properly guarded. See if you can construct a text file which causes the program to fail and then modify the program so that the line is properly guarded and test it to make sure it handles your new text file.\n",
    "~~~Python\n",
    "fhand = open('mbox-short.txt')\n",
    "count = 0\n",
    "for line in fhand:\n",
    "    words = line.split()\n",
    "    # print('Debug:', words)\n",
    "    if len(words) == 0 : continue\n",
    "    if words[0] != 'From' : continue\n",
    "    print(words[2])\n",
    "~~~\n"
   ]
  },
  {
   "cell_type": "code",
   "execution_count": 78,
   "id": "07eaf72c",
   "metadata": {},
   "outputs": [],
   "source": [
    "# Answer \n"
   ]
  },
  {
   "cell_type": "markdown",
   "id": "638eccc4",
   "metadata": {},
   "source": [
    "## Exercise 3: Exercise 3: Rewrite the guardian code in the above example without two if statements. Instead, use a compound logical expression using the or logical operator with a single if statement.\n",
    "\n"
   ]
  },
  {
   "cell_type": "code",
   "execution_count": 79,
   "id": "55f4e785",
   "metadata": {},
   "outputs": [],
   "source": [
    "# Answer\n"
   ]
  },
  {
   "cell_type": "markdown",
   "id": "2e463b4c",
   "metadata": {},
   "source": [
    "## Exercise 4: Find all unique words in a file\n",
    "\n",
    "## Shakespeare used over 20,000 words in his works. But how would you determine that? How would you produce the list of all the words that Shakespeare used? Would you download all his work, read it and track all unique words by hand? \n",
    "\n",
    "## Let’s use Python to achieve that instead. List all unique words, sorted in alphabetical order, that are stored in a file <font color=\"red\" >romeo.txt </font> containing a subset of Shakespeare’s work.\n",
    "\n",
    "## To get started, download a copy of the file www.py4e.com/code3/romeo.txt. Create a list of unique words, which will contain the final result. Write a program to open the file <font color=\"red\" >romeo.txt </font> and read it line by line. For each line, split the line into a list of words using the <font color=\"red\" >split </font> function. For each word, check to see if the word is already in the list of unique words. If the word is not in the list of unique words, add it to the list. When the program completes, sort and print the list of unique words in alphabetical order.\n",
    "\n",
    "~~~\n",
    "Enter file: romeo.txt\n",
    "['Arise', 'But', 'It', 'Juliet', 'Who', 'already',\n",
    "'and', 'breaks', 'east', 'envious', 'fair', 'grief',\n",
    "'is', 'kill', 'light', 'moon', 'pale', 'sick', 'soft',\n",
    "'sun', 'the', 'through', 'what', 'window',\n",
    "'with', 'yonder']\n",
    "~~~\n"
   ]
  },
  {
   "cell_type": "code",
   "execution_count": 122,
   "id": "032bd857",
   "metadata": {},
   "outputs": [
    {
     "name": "stdout",
     "output_type": "stream",
     "text": [
      "Enter file: romeo.txt\n",
      "['Arise', 'But', 'It', 'Juliet', 'Who', 'already', 'and', 'breaks', 'east', 'envious', 'fair', 'grief', 'is', 'kill', 'light', 'moon', 'pale', 'sick', 'soft', 'sun', 'the', 'through', 'what', 'window', 'with', 'yonder']\n"
     ]
    }
   ],
   "source": [
    "# Answer \n",
    "enterFile = input('Enter file: ')\n",
    "file = open(enterFile)\n",
    "uniwds = []\n",
    "for line in file:\n",
    "    line = line.split()\n",
    "    for word in line:\n",
    "        if word not in uniwds:\n",
    "            uniwds.append(word)\n",
    "    # Ordem alfabética\n",
    "    uniwds.sort()\n",
    "print(uniwds)"
   ]
  },
  {
   "cell_type": "code",
   "execution_count": null,
   "id": "99d12129",
   "metadata": {},
   "outputs": [],
   "source": []
  },
  {
   "cell_type": "code",
   "execution_count": null,
   "id": "fe6ae1e0",
   "metadata": {},
   "outputs": [],
   "source": []
  }
 ],
 "metadata": {
  "kernelspec": {
   "display_name": "Python 3 (ipykernel)",
   "language": "python",
   "name": "python3"
  },
  "language_info": {
   "codemirror_mode": {
    "name": "ipython",
    "version": 3
   },
   "file_extension": ".py",
   "mimetype": "text/x-python",
   "name": "python",
   "nbconvert_exporter": "python",
   "pygments_lexer": "ipython3",
   "version": "3.9.12"
  }
 },
 "nbformat": 4,
 "nbformat_minor": 5
}
