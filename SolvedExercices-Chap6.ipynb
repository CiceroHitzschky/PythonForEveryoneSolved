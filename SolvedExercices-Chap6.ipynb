{
 "cells": [
  {
   "cell_type": "markdown",
   "id": "4e782d2b",
   "metadata": {},
   "source": [
    "# Chapter 6: Strings"
   ]
  },
  {
   "cell_type": "markdown",
   "id": "57b10598",
   "metadata": {},
   "source": [
    "## Exercise 1: Write a while loop that starts at the last character in the string and works its way backwards to the first character in the string, printing each letter on a separate line, except backwards.\n",
    "\n"
   ]
  },
  {
   "cell_type": "code",
   "execution_count": null,
   "id": "35b4bdca",
   "metadata": {},
   "outputs": [],
   "source": [
    "# Answer \n",
    "string = 'caracter'\n",
    "index = 0\n",
    "ll = len(string)\n",
    "while ll > index:\n",
    "    letter = string[ll-1]\n",
    "    print(letter)\n",
    "    ll = ll - 1"
   ]
  },
  {
   "cell_type": "markdown",
   "id": "e12bc5c6",
   "metadata": {},
   "source": [
    "## Exercise 2: Given that fruit is a string, what does fruit[:] mean?\n"
   ]
  },
  {
   "cell_type": "code",
   "execution_count": null,
   "id": "07eaf72c",
   "metadata": {},
   "outputs": [],
   "source": [
    "# Answer \n",
    "# It's a string too, because < : > is used to slice a string and the sliced string still a string.\n",
    "# Let's check it out\n",
    "fruit = 'apple'\n",
    "type(fruit[:])"
   ]
  },
  {
   "cell_type": "markdown",
   "id": "638eccc4",
   "metadata": {},
   "source": [
    "## Exercise 3: Encapsulate this code in a function named count, and generalize it so that it accepts the string and the letter as arguments.\n",
    "~~~Python\n",
    "word = 'banana'\n",
    "count = 0\n",
    "for letter in word:\n",
    "    if letter == 'a':\n",
    "        count = count + 1\n",
    "print(count)\n",
    "~~~"
   ]
  },
  {
   "cell_type": "code",
   "execution_count": null,
   "id": "55f4e785",
   "metadata": {},
   "outputs": [],
   "source": [
    "# Answer\n",
    "def count(string,letterFind):\n",
    "    count = 0\n",
    "    for letter in string:\n",
    "        if letter == letterFind:\n",
    "            count = count + 1\n",
    "    return count"
   ]
  },
  {
   "cell_type": "code",
   "execution_count": null,
   "id": "81d27e7d",
   "metadata": {},
   "outputs": [],
   "source": [
    "count('zarathustra','a')\n"
   ]
  },
  {
   "cell_type": "markdown",
   "id": "0bee5a45",
   "metadata": {},
   "source": [
    "## Exercise 4: There is a string method called count that is similar to the function in the previous exercise. Read the documentation of this method at: \n",
    "## https://docs.python.org/library/stdtypes.html#string-methods  \n",
    "## Write an invocation that counts the number of times the letter a occurs in “banana”.\n",
    "\n"
   ]
  },
  {
   "cell_type": "code",
   "execution_count": null,
   "id": "21282458",
   "metadata": {},
   "outputs": [],
   "source": [
    "# The string method on documentation\n",
    "string = 'string'\n",
    "help(string.count)\n",
    "\n",
    "# Answer\n",
    "string = 'banana'\n",
    "string.count('a')"
   ]
  },
  {
   "cell_type": "markdown",
   "id": "8d4cffad",
   "metadata": {},
   "source": [
    "## Exercise 5: Take the following Python code that stores a string:\n",
    "## <font color='red'>str = 'X-DSPAM-Confidence: 0.8475 '</font>\n",
    "## Use <font color =\"red\">find</font> and string slicing to extract the portion of the string after the colon character and then use the float function to convert the extracted string into a floating point number."
   ]
  },
  {
   "cell_type": "code",
   "execution_count": 3,
   "id": "489d2c12",
   "metadata": {},
   "outputs": [
    {
     "name": "stdout",
     "output_type": "stream",
     "text": [
      "0.8475\n"
     ]
    }
   ],
   "source": [
    "# Answer\n",
    "string = 'X-DSPAM-Confidence: 0.8475 '\n",
    "noSpaceString = string.strip()\n",
    "\n",
    "# pac means position after colon\n",
    "pac = noSpaceString.find(' ')\n",
    "afterColon = noSpaceString[pac:]\n",
    "fstring = float(afterColon)\n",
    "\n",
    "# test\n",
    "print(fstring)"
   ]
  },
  {
   "cell_type": "markdown",
   "id": "383995ca",
   "metadata": {},
   "source": [
    "## Exercise 6: Read the documentation of the string methods at https://docs.python.org/library/stdtypes.html#string-methods You might want to experiment with some of them to make sure you understand how they work. <font color =\"red\"> strip </font> and <font color =\"red\"> replace </font> are particularly useful.\n",
    "\n",
    "## The documentation uses a syntax that might be confusing. For example, in <font color =\"red\"> find(sub[, start[, end]]) </font>, the brackets indicate optional arguments. So <font color =\"red\"> sub </font> is required, but <font color =\"red\"> start  </font>is optional, and if you include <font color =\"red\"> start </font>, then <font color =\"red\"> end </font> is optional."
   ]
  },
  {
   "cell_type": "code",
   "execution_count": 7,
   "id": "aefd4aad",
   "metadata": {},
   "outputs": [
    {
     "data": {
      "text/plain": [
       "'karalelekikedo'"
      ]
     },
     "execution_count": 7,
     "metadata": {},
     "output_type": "execute_result"
    }
   ],
   "source": [
    "# Answer\n",
    "\n",
    "s = 'paralelepipedo'\n",
    "s.replace('p','k',5)\n"
   ]
  },
  {
   "cell_type": "code",
   "execution_count": null,
   "id": "c51ca7ea",
   "metadata": {},
   "outputs": [],
   "source": []
  }
 ],
 "metadata": {
  "kernelspec": {
   "display_name": "Python 3 (ipykernel)",
   "language": "python",
   "name": "python3"
  },
  "language_info": {
   "codemirror_mode": {
    "name": "ipython",
    "version": 3
   },
   "file_extension": ".py",
   "mimetype": "text/x-python",
   "name": "python",
   "nbconvert_exporter": "python",
   "pygments_lexer": "ipython3",
   "version": "3.9.12"
  }
 },
 "nbformat": 4,
 "nbformat_minor": 5
}
