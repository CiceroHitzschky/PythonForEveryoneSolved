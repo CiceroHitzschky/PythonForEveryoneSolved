{
 "cells": [
  {
   "cell_type": "markdown",
   "id": "4e782d2b",
   "metadata": {},
   "source": [
    "# Chapter 9: Dictionaries\n"
   ]
  },
  {
   "cell_type": "markdown",
   "id": "57b10598",
   "metadata": {},
   "source": [
    "## Exercise 1: Download a copy of the file www.py4e.com/code3/words.txt\n",
    "\n",
    "## Write a program that reads the words in _words.txt_ and stores them as keys in a dictionary. It doesn’t matter what the values are. Then you can use the <font color=\"red\">in</font> operator as a fast way to check whether a string is in the dictionary.\n",
    "\n"
   ]
  },
  {
   "cell_type": "code",
   "execution_count": 13,
   "id": "35b4bdca",
   "metadata": {
    "scrolled": true
   },
   "outputs": [],
   "source": [
    "# Answer \n",
    "dic = dict()\n",
    "doc = open('words.txt')\n",
    "for line in doc:\n",
    "    words = line.split()\n",
    "    value = len(words)\n",
    "    for word in words:\n",
    "        dic[word] = value\n"
   ]
  },
  {
   "cell_type": "code",
   "execution_count": 18,
   "id": "44ae321a",
   "metadata": {
    "scrolled": true
   },
   "outputs": [
    {
     "name": "stdout",
     "output_type": "stream",
     "text": [
      "Enter a word to verify: 1\n",
      "It is not\n"
     ]
    }
   ],
   "source": [
    "# Test\n",
    "wordTest = input('Enter a word to verify: ')\n",
    "if wordTest in dic:\n",
    "    print('It is')\n",
    "else:\n",
    "    print('It is not')"
   ]
  },
  {
   "cell_type": "markdown",
   "id": "e12bc5c6",
   "metadata": {},
   "source": [
    "## Exercise 2: Write a program that categorizes each mail message by which day of the week the commit was done. To do this look for lines that start with “From”, then look for the third word and keep a running count of each of the days of the week. At the end of the program print out the contents of your dictionary (order does not matter).\n",
    "\n",
    "## Sample Line:\n",
    "~~~\n",
    "From stephen.marquard@uct.ac.za Sat Jan  5 09:14:16 2008\n",
    "Sample Execution:\n",
    "~~~\n",
    "## Sample Execution:\n",
    "~~~\n",
    "python dow.py\n",
    "Enter a file name: mbox-short.txt\n",
    "{'Fri': 20, 'Thu': 6, 'Sat': 1}\n",
    "~~~"
   ]
  },
  {
   "cell_type": "code",
   "execution_count": 48,
   "id": "07eaf72c",
   "metadata": {},
   "outputs": [
    {
     "name": "stdout",
     "output_type": "stream",
     "text": [
      "{'Sat': 1, 'Fri': 20, 'Thu': 6}\n"
     ]
    }
   ],
   "source": [
    "# Answer \n",
    "dic = dict()\n",
    "fileName = 'mbox-short.txt'\n",
    "file = open(fileName)\n",
    "\n",
    "for line in file:\n",
    "    if line.startswith('From '):\n",
    "        line = line.split()\n",
    "        if line[2] not in dic:\n",
    "            dic[line[2]] = 1\n",
    "        else:\n",
    "            dic[line[2]] += 1\n",
    "print(dic)"
   ]
  },
  {
   "cell_type": "markdown",
   "id": "638eccc4",
   "metadata": {},
   "source": [
    "## Exercise 3: Write a program to read through a mail log, build a histogram using a dictionary to count how many messages have come from each email address, and print the dictionary.\n",
    "~~~\n",
    "Enter file name: mbox-short.txt\n",
    "{'gopal.ramasammycook@gmail.com': 1, 'louis@media.berkeley.edu': 3,\n",
    "'cwen@iupui.edu': 5, 'antranig@caret.cam.ac.uk': 1,\n",
    "'rjlowe@iupui.edu': 2, 'gsilver@umich.edu': 3,\n",
    "'david.horwitz@uct.ac.za': 4, 'wagnermr@iupui.edu': 1,\n",
    "'zqian@umich.edu': 4, 'stephen.marquard@uct.ac.za': 2,\n",
    "'ray@media.berkeley.edu': 1}\n",
    "~~~"
   ]
  },
  {
   "cell_type": "code",
   "execution_count": 65,
   "id": "55f4e785",
   "metadata": {},
   "outputs": [
    {
     "name": "stdout",
     "output_type": "stream",
     "text": [
      "{'stephen.marquard@uct.ac.za': 2, 'louis@media.berkeley.edu': 3, 'zqian@umich.edu': 4, 'rjlowe@iupui.edu': 2, 'cwen@iupui.edu': 5, 'gsilver@umich.edu': 3, 'wagnermr@iupui.edu': 1, 'antranig@caret.cam.ac.uk': 1, 'gopal.ramasammycook@gmail.com': 1, 'david.horwitz@uct.ac.za': 4, 'ray@media.berkeley.edu': 1}\n"
     ]
    }
   ],
   "source": [
    "# Answer\n",
    "emails = dict()\n",
    "fileName = 'mbox-short.txt'\n",
    "file = open(fileName)\n",
    "for line in file:\n",
    "    if line.startswith('From '):\n",
    "        line = line.split()\n",
    "        email = line[1]\n",
    "        if email not in emails:\n",
    "            emails[email] = 1\n",
    "        else:\n",
    "            emails[email] +=1\n",
    "print(emails)"
   ]
  },
  {
   "cell_type": "markdown",
   "id": "2e463b4c",
   "metadata": {},
   "source": [
    "## Exercise 4: Add code to the above program to figure out who has the most messages in the file. After all the data has been read and the dictionary has been created, look through the dictionary using a maximum loop (see Chapter 5: Maximum and minimum loops) to find who has the most messages and print how many messages the person has.\n",
    "~~~\n",
    "Enter a file name: mbox-short.txt\n",
    "cwen@iupui.edu 5\n",
    "\n",
    "Enter a file name: mbox.txt\n",
    "zqian@umich.edu 195\n",
    "~~~"
   ]
  },
  {
   "cell_type": "code",
   "execution_count": 80,
   "id": "032bd857",
   "metadata": {},
   "outputs": [
    {
     "name": "stdout",
     "output_type": "stream",
     "text": [
      "zqian@umich.edu 5\n"
     ]
    }
   ],
   "source": [
    "# Answer \n",
    "emails = dict()\n",
    "fileName = 'mbox-short.txt'\n",
    "file = open(fileName)\n",
    "for line in file:\n",
    "    if line.startswith('From '):\n",
    "        line = line.split()\n",
    "        email = line[1]\n",
    "        if email not in emails:\n",
    "            emails[email] = 1\n",
    "        else:\n",
    "            emails[email] +=1\n",
    "\n",
    "maxmail = max(emails)\n",
    "values = emails.values()\n",
    "maxnum = max(values)\n",
    "\n",
    "print(maxmail,maxnum)"
   ]
  },
  {
   "cell_type": "code",
   "execution_count": 79,
   "id": "175f8670",
   "metadata": {},
   "outputs": [
    {
     "name": "stdout",
     "output_type": "stream",
     "text": [
      "zqian@umich.edu 63\n"
     ]
    }
   ],
   "source": [
    "fileName = 'mbox-short.txt'\n",
    "file = open(fileName)\n",
    "for line in file:\n",
    "    if line.startswith('From ') or line.startswith('from'):\n",
    "        line = line.split()\n",
    "        email = line[1]\n",
    "        if email not in emails:\n",
    "            emails[email] = 1\n",
    "        else:\n",
    "            emails[email] +=1\n",
    "\n",
    "maxmail = max(emails)\n",
    "values = emails.values()\n",
    "maxnum = max(values)\n",
    "\n",
    "print(maxmail,maxnum)"
   ]
  },
  {
   "cell_type": "markdown",
   "id": "2c0dafbe",
   "metadata": {},
   "source": [
    "## Exercise 5: Minimalist Email Client.\n",
    "\n",
    "## MBOX (mail box) is a popular file format to store and share a collection of emails. This was used by early email servers and desktop apps. Without getting into too many details, MBOX is a text file, which stores emails consecutively. Emails are separated by a special line which starts with <font color=\"red\">From </font>(notice the space). Importantly, lines starting with <font color=\"red\">From: </font> (notice the colon) describes the email itself and does not act as a separator. Imagine you wrote a minimalist email app, that lists the email of the senders in the user’s Inbox and counts the number of emails.\n",
    "\n",
    "## Write a program to read through the mail box data and when you find line that starts with “From”, you will split the line into words using the <font color=\"red\">split </font> function. We are interested in who sent the message, which is the second word on the From line.\n",
    "\n",
    "~~~\n",
    "From stephen.marquard@uct.ac.za Sat Jan 5 09:14:16 2008\n",
    "~~~\n",
    "\n",
    "## You will parse the From line and print out the second word for each From line, then you will also count the number of From (not From:) lines and print out a count at the end. This is a good sample output with a few lines removed:\n",
    "\n",
    "~~~\n",
    "python fromcount.py\n",
    "Enter a file name: mbox-short.txt\n",
    "stephen.marquard@uct.ac.za\n",
    "louis@media.berkeley.edu\n",
    "zqian@umich.edu\n",
    "\n",
    "[...some output removed...]\n",
    "\n",
    "ray@media.berkeley.edu\n",
    "cwen@iupui.edu\n",
    "cwen@iupui.edu\n",
    "cwen@iupui.edu\n",
    "There were 27 lines in the file with From as the first word\n",
    "~~~ "
   ]
  },
  {
   "cell_type": "code",
   "execution_count": 13,
   "id": "07273d03",
   "metadata": {},
   "outputs": [
    {
     "name": "stdout",
     "output_type": "stream",
     "text": [
      "stephen.marquard@uct.ac.za\n",
      "louis@media.berkeley.edu\n",
      "zqian@umich.edu\n",
      "rjlowe@iupui.edu\n",
      "zqian@umich.edu\n",
      "rjlowe@iupui.edu\n",
      "cwen@iupui.edu\n",
      "cwen@iupui.edu\n",
      "gsilver@umich.edu\n",
      "gsilver@umich.edu\n",
      "zqian@umich.edu\n",
      "gsilver@umich.edu\n",
      "wagnermr@iupui.edu\n",
      "zqian@umich.edu\n",
      "antranig@caret.cam.ac.uk\n",
      "gopal.ramasammycook@gmail.com\n",
      "david.horwitz@uct.ac.za\n",
      "david.horwitz@uct.ac.za\n",
      "david.horwitz@uct.ac.za\n",
      "david.horwitz@uct.ac.za\n",
      "stephen.marquard@uct.ac.za\n",
      "louis@media.berkeley.edu\n",
      "louis@media.berkeley.edu\n",
      "ray@media.berkeley.edu\n",
      "cwen@iupui.edu\n",
      "cwen@iupui.edu\n",
      "cwen@iupui.edu\n",
      "There were 27 lines in the file with From as the first word\n"
     ]
    }
   ],
   "source": [
    "# Answer\n",
    "enter = 'mbox-short.txt'\n",
    "file = open(enter)\n",
    "count = 0\n",
    "for line in file:\n",
    "    if line.startswith('From: '):\n",
    "        line = line.strip()\n",
    "        line = line.split(' ')\n",
    "        print(line[1])\n",
    "        count+=1\n",
    "print(\"There were\",count,\"lines in the file with From as the first word\")"
   ]
  },
  {
   "cell_type": "markdown",
   "id": "3ec6354e",
   "metadata": {},
   "source": [
    "## Exercise 6: Rewrite the program that prompts the user for a list of numbers and prints out the maximum and minimum of the numbers at the end when the user enters “done”. Write the program to store the numbers the user enters in a list and use the max() and min() functions to compute the maximum and minimum numbers after the loop completes.\n",
    "\n",
    "~~~\n",
    "Enter a number: 6\n",
    "Enter a number: 2\n",
    "Enter a number: 9\n",
    "Enter a number: 3\n",
    "Enter a number: 5\n",
    "Enter a number: done\n",
    "Maximum: 9.0\n",
    "Minimum: 2.0\n",
    "~~~"
   ]
  },
  {
   "cell_type": "code",
   "execution_count": 37,
   "id": "1f381bd0",
   "metadata": {},
   "outputs": [
    {
     "name": "stdout",
     "output_type": "stream",
     "text": [
      "Enter a number: fasf\n",
      "Warning: only numbers are allowed!\n",
      "\n",
      "Enter a number: gdsg\n",
      "Warning: only numbers are allowed!\n",
      "\n",
      "Enter a number: gdsg\n",
      "Warning: only numbers are allowed!\n",
      "\n",
      "Enter a number: done\n",
      "You didn't write any numbers!\n"
     ]
    }
   ],
   "source": [
    "# Answer\n",
    "l = []\n",
    "\n",
    "while True:\n",
    "    inp = input('Enter a number: ')\n",
    "    if inp != 'done':\n",
    "        try:\n",
    "            num = float(inp)\n",
    "            l.append(num)\n",
    "        except:\n",
    "            print('Warning: only numbers are allowed!\\n')\n",
    "    elif inp == 'done':\n",
    "        break\n",
    "try:        \n",
    "    print('Maximum: ',max(l))\n",
    "    print('Minimum: ',min(l))\n",
    "except:\n",
    "    print(\"You didn't write any numbers!\")"
   ]
  }
 ],
 "metadata": {
  "kernelspec": {
   "display_name": "Python 3 (ipykernel)",
   "language": "python",
   "name": "python3"
  },
  "language_info": {
   "codemirror_mode": {
    "name": "ipython",
    "version": 3
   },
   "file_extension": ".py",
   "mimetype": "text/x-python",
   "name": "python",
   "nbconvert_exporter": "python",
   "pygments_lexer": "ipython3",
   "version": "3.9.12"
  }
 },
 "nbformat": 4,
 "nbformat_minor": 5
}
