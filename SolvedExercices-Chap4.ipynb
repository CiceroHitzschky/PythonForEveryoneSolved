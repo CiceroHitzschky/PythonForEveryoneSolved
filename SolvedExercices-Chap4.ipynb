{
 "cells": [
  {
   "cell_type": "markdown",
   "id": "4e782d2b",
   "metadata": {},
   "source": [
    "# Chapter 4: Functions"
   ]
  },
  {
   "cell_type": "markdown",
   "id": "57b10598",
   "metadata": {},
   "source": [
    "## Exercise 1: Run the program on your system and see what numbers you get. Run the program more than once and see what numbers you get.\n",
    "~~~Python\n",
    "import random\n",
    "\n",
    "for i in range(10):\n",
    "    x = random.random()\n",
    "    print(x)\n",
    "~~~\n"
   ]
  },
  {
   "cell_type": "code",
   "execution_count": 10,
   "id": "35b4bdca",
   "metadata": {},
   "outputs": [
    {
     "name": "stdout",
     "output_type": "stream",
     "text": [
      "0.6649966074965581\n",
      "0.7600999039468554\n",
      "0.20893158589252026\n",
      "0.8812184409779114\n",
      "0.5520724477934269\n",
      "0.7414539630129028\n",
      "0.8548959807495031\n",
      "0.22065676419187374\n",
      "0.299348466153299\n",
      "0.32365258952402887\n",
      "--------------------\n",
      "0.8249295406988727\n",
      "0.8475936537507517\n",
      "0.5741410888887301\n",
      "0.821215544912771\n",
      "0.6968095524827719\n",
      "0.05587870223001978\n",
      "0.6545091173141849\n",
      "0.5342448884587477\n",
      "0.42734028277124947\n",
      "0.14706140357222885\n",
      "--------------------\n"
     ]
    }
   ],
   "source": [
    "# Answer \n",
    "import random\n",
    "for i in range(0,2):\n",
    "    for i in range(10):\n",
    "        x = random.random()\n",
    "        print(x)\n",
    "    print('--------------------')"
   ]
  },
  {
   "cell_type": "markdown",
   "id": "e12bc5c6",
   "metadata": {},
   "source": [
    "## Exercise 2: Move the last line of this program to the top, so the function call appears before the definitions. Run the program and see what error message you get.\n",
    "\n",
    "~~~Python\n",
    "def print_lyrics():\n",
    "    print(\"I'm a lumberjack, and I'm okay.\")\n",
    "    print('I sleep all night and I work all day.')\n",
    "\n",
    "\n",
    "def repeat_lyrics():\n",
    "    print_lyrics()\n",
    "    print_lyrics()\n",
    "\n",
    "repeat_lyrics()\n",
    "~~~"
   ]
  },
  {
   "cell_type": "code",
   "execution_count": 14,
   "id": "07eaf72c",
   "metadata": {},
   "outputs": [
    {
     "name": "stdout",
     "output_type": "stream",
     "text": [
      "I'm a lumberjack, and I'm okay.\n",
      "I sleep all night and I work all day.\n",
      "I'm a lumberjack, and I'm okay.\n",
      "I sleep all night and I work all day.\n"
     ]
    }
   ],
   "source": [
    "# Answer \n",
    "\n",
    "repeat_lyrics()\n",
    "def print_lyrics():\n",
    "    print(\"I'm a lumberjack, and I'm okay.\")\n",
    "    print('I sleep all night and I work all day.')\n",
    "\n",
    "\n",
    "def repeat_lyrics():\n",
    "    print_lyrics()\n",
    "    print_lyrics()\n",
    "\n",
    "\n"
   ]
  },
  {
   "cell_type": "markdown",
   "id": "59dbd57c",
   "metadata": {},
   "source": [
    "## Exercise 3: Move the function call back to the bottom and move the definition of print_lyrics after the definition of repeat_lyrics. What happens when you run this program?\n",
    "~~~Python\n",
    "def print_lyrics():\n",
    "    print(\"I'm a lumberjack, and I'm okay.\")\n",
    "    print('I sleep all night and I work all day.')\n",
    "\n",
    "\n",
    "def repeat_lyrics():\n",
    "    print_lyrics()\n",
    "    print_lyrics()\n",
    "\n",
    "repeat_lyrics()\n",
    "~~~\n"
   ]
  },
  {
   "cell_type": "code",
   "execution_count": 15,
   "id": "ed7060f1",
   "metadata": {},
   "outputs": [
    {
     "name": "stdout",
     "output_type": "stream",
     "text": [
      "I'm a lumberjack, and I'm okay.\n",
      "I sleep all night and I work all day.\n",
      "I'm a lumberjack, and I'm okay.\n",
      "I sleep all night and I work all day.\n"
     ]
    }
   ],
   "source": [
    "# Answer \n",
    "def repeat_lyrics():\n",
    "    print_lyrics()\n",
    "    print_lyrics()\n",
    "def print_lyrics():\n",
    "    print(\"I'm a lumberjack, and I'm okay.\")\n",
    "    print('I sleep all night and I work all day.')\n",
    "repeat_lyrics()\n",
    "\n"
   ]
  },
  {
   "cell_type": "markdown",
   "id": "35a63d4a",
   "metadata": {},
   "source": [
    "## Exercise 4: What is the purpose of the “def” keyword in Python?\n",
    "##### a) It is slang that means “the following code is really cool”\n",
    "##### b) It indicates the start of a function\n",
    "##### c) It indicates that the following indented section of code is to be stored for later\n",
    "##### <font color = 'red'>d) b and c are both true</font>\n",
    "##### e) None of the above"
   ]
  },
  {
   "cell_type": "markdown",
   "id": "04b3dcb9",
   "metadata": {},
   "source": [
    "## Exercise 5: What will the following Python program print out?\n",
    "~~~Python\n",
    "def fred():\n",
    "   print(\"Zap\")\n",
    "\n",
    "def jane():\n",
    "   print(\"ABC\")\n",
    "\n",
    "jane()\n",
    "fred()\n",
    "jane()\n",
    "~~~"
   ]
  },
  {
   "cell_type": "code",
   "execution_count": 17,
   "id": "2fd2e46f",
   "metadata": {},
   "outputs": [
    {
     "name": "stdout",
     "output_type": "stream",
     "text": [
      "ABC\n",
      "Zap\n",
      "ABC\n"
     ]
    }
   ],
   "source": [
    "def fred():\n",
    "   print(\"Zap\")\n",
    "\n",
    "def jane():\n",
    "   print(\"ABC\")\n",
    "\n",
    "jane()\n",
    "fred()\n",
    "jane()"
   ]
  },
  {
   "cell_type": "markdown",
   "id": "95ea2bb2",
   "metadata": {},
   "source": [
    "## Exercise 6: Rewrite your pay computation with time-and-a-half for overtime and create a function called computepay which takes two parameters (hours and rate).\n",
    "~~~Python\n",
    "Enter Hours: 45\n",
    "Enter Rate: 10\n",
    "Pay: 475.0\n",
    "~~~"
   ]
  },
  {
   "cell_type": "code",
   "execution_count": 26,
   "id": "9be44e28",
   "metadata": {},
   "outputs": [],
   "source": [
    "# Answer \n",
    "def computerpay(hours,rate):\n",
    "    try:\n",
    "        if hours > 40:\n",
    "            difference = hours - 40.0\n",
    "            pay = (difference*0.5 + hours) * rate\n",
    "        else:\n",
    "            pay = hours * rate\n",
    "        return print('Pay:', pay)\n",
    "    except:\n",
    "        print('Error, please enter numeric input')"
   ]
  },
  {
   "cell_type": "code",
   "execution_count": 27,
   "id": "3153e4b5",
   "metadata": {},
   "outputs": [
    {
     "name": "stdout",
     "output_type": "stream",
     "text": [
      "Pay: 475.0\n"
     ]
    }
   ],
   "source": [
    "computerpay(45,10)"
   ]
  },
  {
   "cell_type": "markdown",
   "id": "0885e041",
   "metadata": {},
   "source": [
    "## Exercise 7: Rewrite the grade program from the previous chapter using a function called computegrade that takes a score as its parameter and returns a grade as a string.\n",
    "\n",
    "\n",
    "~~~Python\n",
    " Score   Grade\n",
    ">= 0.9     A\n",
    ">= 0.8     B\n",
    ">= 0.7     C\n",
    ">= 0.6     D\n",
    " < 0.6     F\n",
    "    \n",
    "Enter score: 0.95\n",
    "A\n",
    "\n",
    "Enter score: perfect\n",
    "Bad score\n",
    "\n",
    "Enter score: 10.0\n",
    "Bad score\n",
    "\n",
    "Enter score: 0.75\n",
    "C\n",
    "\n",
    "Enter score: 0.5\n",
    "F\n",
    "~~~"
   ]
  },
  {
   "cell_type": "code",
   "execution_count": 36,
   "id": "41c8400f",
   "metadata": {},
   "outputs": [],
   "source": [
    "# Answer \n",
    "def computergrade(score):\n",
    "    grade = None\n",
    "    fscore = float(score)\n",
    "    try:\n",
    "        if 0<fscore and fscore<1:\n",
    "            if fscore >=0.9:\n",
    "                grade = 'A'\n",
    "            elif fscore >=0.8:\n",
    "                grade = 'B'\n",
    "            elif fscore >=0.7:\n",
    "                grade = 'C'\n",
    "            elif fscore >=0.6:\n",
    "                grade = 'D'\n",
    "            elif fscore <0.6:\n",
    "                grade = 'F'\n",
    "        else:\n",
    "            grade = 'Bad score'\n",
    "        return grade\n",
    "    except:\n",
    "        print('Bad score')"
   ]
  }
 ],
 "metadata": {
  "kernelspec": {
   "display_name": "Python 3 (ipykernel)",
   "language": "python",
   "name": "python3"
  },
  "language_info": {
   "codemirror_mode": {
    "name": "ipython",
    "version": 3
   },
   "file_extension": ".py",
   "mimetype": "text/x-python",
   "name": "python",
   "nbconvert_exporter": "python",
   "pygments_lexer": "ipython3",
   "version": "3.9.12"
  }
 },
 "nbformat": 4,
 "nbformat_minor": 5
}
