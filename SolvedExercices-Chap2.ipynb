{
 "cells": [
  {
   "cell_type": "markdown",
   "id": "4e782d2b",
   "metadata": {},
   "source": [
    "# Chapter 2: Variables, expressions, and statements"
   ]
  },
  {
   "cell_type": "markdown",
   "id": "57b10598",
   "metadata": {},
   "source": [
    "## Exercise 1: Type the following statements in the Python interpreter to see what they do:\n",
    "~~~Python\n",
    "5\n",
    "x = 5\n",
    "x + 1\n",
    "~~~\n"
   ]
  },
  {
   "cell_type": "code",
   "execution_count": 6,
   "id": "35b4bdca",
   "metadata": {},
   "outputs": [
    {
     "data": {
      "text/plain": [
       "6"
      ]
     },
     "execution_count": 6,
     "metadata": {},
     "output_type": "execute_result"
    }
   ],
   "source": [
    "# Respota\n",
    "5\n",
    "x = 5 \n",
    "x + 1"
   ]
  },
  {
   "cell_type": "markdown",
   "id": "e12bc5c6",
   "metadata": {},
   "source": [
    "## Exercise 2: Write a program that uses input to prompt a user for their name and then welcomes them.\n"
   ]
  },
  {
   "cell_type": "code",
   "execution_count": 9,
   "id": "07eaf72c",
   "metadata": {},
   "outputs": [
    {
     "name": "stdout",
     "output_type": "stream",
     "text": [
      "Enter your name:\n",
      " Cícero Moreira\n",
      "Hello Cícero Moreira\n"
     ]
    }
   ],
   "source": [
    "# Resposta\n",
    "enterName = input('Enter your name:\\n ')\n",
    "print(\"Hello\", enterName)"
   ]
  },
  {
   "cell_type": "markdown",
   "id": "59dbd57c",
   "metadata": {},
   "source": [
    "## Exercise 3: Write a program to prompt the user for hours and rate per hour to compute gross pay."
   ]
  },
  {
   "cell_type": "code",
   "execution_count": 16,
   "id": "ed7060f1",
   "metadata": {},
   "outputs": [
    {
     "name": "stdout",
     "output_type": "stream",
     "text": [
      "Enter Hours:45\n",
      "Enter Rate:45\n",
      "Pay: 2025.0\n"
     ]
    }
   ],
   "source": [
    "# Answer \n",
    "eh = input('Enter Hours:')\n",
    "er = input('Enter Rate:')\n",
    "fh = float(eh)\n",
    "fr = float(er)\n",
    "pay = fh * fr\n",
    "print('Pay:', pay)"
   ]
  },
  {
   "cell_type": "markdown",
   "id": "aecb2e3a",
   "metadata": {},
   "source": [
    "## Exercise 4: Assume that we execute the following assignment statements:\n",
    "~~~Python\n",
    "width = 17\n",
    "height = 12.0\n",
    "~~~\n",
    "For each of the following expressions, write the value of the expression and the type (of the value of the expression).\n",
    "\n",
    "1. width//2\n",
    "2. width/2.0\n",
    "3. height/3\n",
    "4. 1 + 2 * 5\n",
    "\n",
    "Use the Python interpreter to check your answers."
   ]
  },
  {
   "cell_type": "code",
   "execution_count": 20,
   "id": "c93b0322",
   "metadata": {},
   "outputs": [
    {
     "name": "stdout",
     "output_type": "stream",
     "text": [
      "The value and type, respectily for 1. is: 8 <class 'int'>\n",
      "The value and type, respectily for 1. is: 8.5 <class 'float'>\n",
      "The value and type, respectily for 1. is: 4.0 <class 'float'>\n",
      "The value and type, respectily for 1. is: 11 <class 'int'>\n"
     ]
    }
   ],
   "source": [
    "# Answer\n",
    "width = 17\n",
    "height = 12.0\n",
    "print(\"The value and type, respectily for 1. is:\", width//2, type(width//2))\n",
    "print(\"The value and type, respectily for 1. is:\", width/2.0, type(width/2.0))\n",
    "print(\"The value and type, respectily for 1. is:\", height/3, type(height/3))\n",
    "print(\"The value and type, respectily for 1. is:\", 1 + 2 * 5, type(1 + 2 * 5))"
   ]
  },
  {
   "cell_type": "markdown",
   "id": "b2046956",
   "metadata": {},
   "source": [
    "## Exercise 5: Write a program which prompts the user for a Celsius temperature, convert the temperature to Fahrenheit, and print out the converted temperature."
   ]
  },
  {
   "cell_type": "code",
   "execution_count": 24,
   "id": "0b5c85de",
   "metadata": {},
   "outputs": [
    {
     "name": "stdout",
     "output_type": "stream",
     "text": [
      "Enter Celsius:0\n",
      "32.0\n"
     ]
    }
   ],
   "source": [
    "# Answer \n",
    "cel = input('Enter Celsius:')\n",
    "fahr = float(cel)*1.8 + 32\n",
    "print(fahr)"
   ]
  }
 ],
 "metadata": {
  "kernelspec": {
   "display_name": "Python 3 (ipykernel)",
   "language": "python",
   "name": "python3"
  },
  "language_info": {
   "codemirror_mode": {
    "name": "ipython",
    "version": 3
   },
   "file_extension": ".py",
   "mimetype": "text/x-python",
   "name": "python",
   "nbconvert_exporter": "python",
   "pygments_lexer": "ipython3",
   "version": "3.9.12"
  }
 },
 "nbformat": 4,
 "nbformat_minor": 5
}
