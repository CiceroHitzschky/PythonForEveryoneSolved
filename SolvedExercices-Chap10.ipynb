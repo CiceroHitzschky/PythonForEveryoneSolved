{
 "cells": [
  {
   "cell_type": "markdown",
   "id": "4e782d2b",
   "metadata": {},
   "source": [
    "# Chapter 10: Tuples\n"
   ]
  },
  {
   "cell_type": "markdown",
   "id": "57b10598",
   "metadata": {},
   "source": [
    "## Exercise 1: Revise a previous program as follows: Read and parse the “From” lines and pull out the addresses from the line. Count the number of messages from each person using a dictionary.\n",
    "\n",
    "## After all the data has been read, print the person with the most commits by creating a list of (count, email) tuples from the dictionary. Then sort the list in reverse order and print out the person who has the most commits.\n",
    "~~~\n",
    "Sample Line:\n",
    "From stephen.marquard@uct.ac.za Sat Jan  5 09:14:16 2008\n",
    "\n",
    "Enter a file name: mbox-short.txt\n",
    "cwen@iupui.edu 5\n",
    "\n",
    "Enter a file name: mbox.txt\n",
    "zqian@umich.edu 195\n",
    "~~~"
   ]
  },
  {
   "cell_type": "code",
   "execution_count": 97,
   "id": "35b4bdca",
   "metadata": {
    "scrolled": true
   },
   "outputs": [
    {
     "name": "stdout",
     "output_type": "stream",
     "text": [
      "cwen@iupui.edu 53\n"
     ]
    }
   ],
   "source": [
    "# Answer \n",
    "fileName = \"mbox.txt\"\n",
    "file = open(fileName)\n",
    "dic = dict()\n",
    "for line in file:\n",
    "    if line.startswith('From: '):\n",
    "        words = line.split()\n",
    "        msg = words[1]\n",
    "        dic[msg] = dic.get(msg,0) + 1\n",
    "            \n",
    "lista = sorted([(v,k) for k,v in dic.items()],reverse=True)\n",
    "num, email = lista[0][0], lista[0][1]\n",
    "print(email,num)"
   ]
  },
  {
   "cell_type": "markdown",
   "id": "e12bc5c6",
   "metadata": {},
   "source": [
    "## Exercise 2: This program counts the distribution of the hour of the day for each of the messages. You can pull the hour from the “From” line by finding the time string and then splitting that string into parts using the colon character. Once you have accumulated the counts for each hour, print out the counts, one per line, sorted by hour as shown below.\n",
    "~~~\n",
    "python timeofday.py\n",
    "Enter a file name: mbox-short.txt\n",
    "04 3\n",
    "06 1\n",
    "07 1\n",
    "09 2\n",
    "10 3\n",
    "11 6\n",
    "14 1\n",
    "15 2\n",
    "16 4\n",
    "17 2\n",
    "18 1\n",
    "19 1\n",
    "~~~"
   ]
  },
  {
   "cell_type": "code",
   "execution_count": 2,
   "id": "07eaf72c",
   "metadata": {},
   "outputs": [
    {
     "name": "stdout",
     "output_type": "stream",
     "text": [
      "04 3\n",
      "06 1\n",
      "07 1\n",
      "09 2\n",
      "10 3\n",
      "11 6\n",
      "14 1\n",
      "15 2\n",
      "16 4\n",
      "17 2\n",
      "18 1\n",
      "19 1\n"
     ]
    }
   ],
   "source": [
    "# Answer \n",
    "fileName = 'mbox-short.txt'\n",
    "file = open(fileName)\n",
    "count = dict()\n",
    "for line in file:\n",
    "    if line.startswith('From') and not line.startswith('From: '):\n",
    "        index = line.find(':')\n",
    "        hours = line[index-2:index]\n",
    "        count[hours] = count.get(hours,0) + 1 \n",
    "\n",
    "lista = sorted([ (key, val) for key,val in count.items()])\n",
    "for k,v in lista:\n",
    "    print(k,v)"
   ]
  },
  {
   "cell_type": "markdown",
   "id": "638eccc4",
   "metadata": {},
   "source": [
    "## Exercise 3: Write a program that reads a file and prints the letters in decreasing order of frequency. Your program should convert all the input to lower case and only count the letters a-z. Your program should not count spaces, digits, punctuation, or anything other than the letters a-z. Find text samples from several different languages and see how letter frequency varies between languages. Compare your results with the tables at https://wikipedia.org/wiki/Letter_frequencies.\n",
    "\n"
   ]
  },
  {
   "cell_type": "code",
   "execution_count": 98,
   "id": "b5762ac0",
   "metadata": {},
   "outputs": [
    {
     "name": "stdout",
     "output_type": "stream",
     "text": [
      "[(91, 'e'), (53, 'n'), (49, 's'), (45, 't'), (43, 'd'), (41, 'i'), (33, 'r'), (33, 'l'), (33, 'h'), (32, 'a'), (30, 'u'), (20, 'c'), (16, 'g'), (14, 'o'), (13, 'f'), (12, 'm'), (12, 'b'), (10, 'k'), (8, 'v'), (7, 'z'), (6, 'p'), (4, 'w'), (3, 'y'), (2, 'x'), (1, 'j')]\n"
     ]
    }
   ],
   "source": [
    "# Answer\n",
    "fileName = input('Enter a file')\n",
    "file = open(fileName)\n",
    "count = dict()\n",
    "\n",
    "# Creating a dictionary\n",
    "for line in file:\n",
    "    line = line.lower().strip()\n",
    "    for letter in line:\n",
    "        if not letter.startswith(' '):\n",
    "            count[letter] = count.get(letter,0) + 1\n",
    "\n",
    "# Ordenring all values on dictionary count\n",
    "listOrd = sorted([(key,val) for key,val in count.items()])\n",
    "\n",
    "\n",
    "# Filtering a-z\n",
    "letters = list()\n",
    "for t in listOrd:\n",
    "    if t[0][0] <= 'z' and t[0][0] >= 'a': letters.append(t)\n",
    "\n",
    "# Reversin key and value on dictionary\n",
    "freqList = [(freq,letter) for (letter, freq) in letters]\n",
    "listDecOrd = sorted(freqList,reverse=True)\n",
    "print(listDecOrd)"
   ]
  },
  {
   "cell_type": "code",
   "execution_count": null,
   "id": "a509e93d",
   "metadata": {},
   "outputs": [],
   "source": []
  }
 ],
 "metadata": {
  "kernelspec": {
   "display_name": "Python 3.10.4 64-bit",
   "language": "python",
   "name": "python3"
  },
  "language_info": {
   "codemirror_mode": {
    "name": "ipython",
    "version": 3
   },
   "file_extension": ".py",
   "mimetype": "text/x-python",
   "name": "python",
   "nbconvert_exporter": "python",
   "pygments_lexer": "ipython3",
   "version": "3.10.4"
  },
  "vscode": {
   "interpreter": {
    "hash": "916dbcbb3f70747c44a77c7bcd40155683ae19c65e1c03b4aa3499c5328201f1"
   }
  }
 },
 "nbformat": 4,
 "nbformat_minor": 5
}
