{
 "cells": [
  {
   "cell_type": "markdown",
   "id": "4e782d2b",
   "metadata": {},
   "source": [
    "# Chapter 7: Files\n"
   ]
  },
  {
   "cell_type": "markdown",
   "id": "57b10598",
   "metadata": {},
   "source": [
    "## Exercise 1: Write a program to read through a file and print the contents of the file (line by line) all in upper case. Executing the program will look as follows:\n",
    "~~~\n",
    "python shout.py\n",
    "Enter a file name: mbox-short.txt\n",
    "FROM STEPHEN.MARQUARD@UCT.AC.ZA SAT JAN  5 09:14:16 2008\n",
    "RETURN-PATH: <POSTMASTER@COLLAB.SAKAIPROJECT.ORG>\n",
    "RECEIVED: FROM MURDER (MAIL.UMICH.EDU [141.211.14.90])\n",
    "     BY FRANKENSTEIN.MAIL.UMICH.EDU (CYRUS V2.3.8) WITH LMTPA;\n",
    "     SAT, 05 JAN 2008 09:14:16 -0500\n",
    "~~~\n",
    "## You can download the file from www.py4e.com/code3/mbox-short.txt\n"
   ]
  },
  {
   "cell_type": "code",
   "execution_count": null,
   "id": "35b4bdca",
   "metadata": {},
   "outputs": [],
   "source": [
    "# Answer \n",
    "fileName = input('Enter a file name: ')\n",
    "file = open(fileName)\n",
    "for line in file:\n",
    "    nsline = line.rstrip()\n",
    "    line = nsline.upper()\n",
    "    print(line)"
   ]
  },
  {
   "cell_type": "markdown",
   "id": "e12bc5c6",
   "metadata": {},
   "source": [
    "## Exercise 2: Write a program to prompt for a file name, and then read through the file and look for lines of the form:\n",
    "~~~\n",
    "X-DSPAM-Confidence: 0.8475\n",
    "~~~\n",
    "## When you encounter a line that starts with “X-DSPAM-Confidence:” pull apart the line to extract the floating-point number on the line. Count these lines and then compute the total of the spam confidence values from these lines. When you reach the end of the file, print out the average spam confidence.\n",
    "~~~\n",
    "Enter the file name: mbox.txt\n",
    "Average spam confidence: 0.894128046745\n",
    "\n",
    "Enter the file name: mbox-short.txt\n",
    "Average spam confidence: 0.750718518519\n",
    "~~~\n",
    "## Test your file on the mbox.txt and mbox-short.txt files."
   ]
  },
  {
   "cell_type": "code",
   "execution_count": 4,
   "id": "07eaf72c",
   "metadata": {},
   "outputs": [
    {
     "name": "stdout",
     "output_type": "stream",
     "text": [
      "Enter a file name: mbox.txt\n",
      "Average spam confidence:  0.8988860681114546\n"
     ]
    }
   ],
   "source": [
    "# Answer \n",
    "fileName = input('Enter a file name: ')\n",
    "#fileName = 'mbox-short.txt'\n",
    "\n",
    "file = open(fileName)\n",
    "count = 0\n",
    "value = 0\n",
    "for line in file:\n",
    "    if line.startswith('X-DSPAM-Confidence:'):\n",
    "        line = line.strip()\n",
    "        position = line.find(' ')\n",
    "        fline = float(line[position+1:])\n",
    "        count = count + 1\n",
    "        value = value + fline\n",
    "print('Average spam confidence: ', value/count)       "
   ]
  },
  {
   "cell_type": "markdown",
   "id": "638eccc4",
   "metadata": {},
   "source": [
    "## Exercise 3: Sometimes when programmers get bored or want to have a bit of fun, they add a harmless Easter Egg to their program. Modify the program that prompts the user for the file name so that it prints a funny message when the user types in the exact file name “na na boo boo”. The program should behave normally for all other files which exist and don’t exist. Here is a sample execution of the program:\n",
    "\n",
    "~~~\n",
    "python egg.py\n",
    "Enter the file name: mbox.txt\n",
    "There were 1797 subject lines in mbox.txt\n",
    "\n",
    "python egg.py\n",
    "Enter the file name: missing.tyxt\n",
    "File cannot be opened: missing.tyxt\n",
    "\n",
    "python egg.py\n",
    "Enter the file name: na na boo boo\n",
    "NA NA BOO BOO TO YOU - You have been punk'd!\n",
    "~~~\n",
    "## We are not encouraging you to put Easter Eggs in your programs; this is just an exercise.\n"
   ]
  },
  {
   "cell_type": "code",
   "execution_count": 37,
   "id": "55f4e785",
   "metadata": {},
   "outputs": [
    {
     "name": "stdout",
     "output_type": "stream",
     "text": [
      "Enter the file name:mbox.txt\n",
      "There were 19951 subject lines in mbox.txt\n"
     ]
    }
   ],
   "source": [
    "# Answer\n",
    "# input file\n",
    "ifile = input('Enter the file name:')\n",
    "count = 0\n",
    "\n",
    "# Verify if the file inputed is the Easter egg\n",
    "if ifile == 'na na boo boo':\n",
    "    print('NA NA BOO BOO TO YOU - You have been punk'+'d!')\n",
    "else:    \n",
    "    # try to run the file\n",
    "    try:\n",
    "        ufile = open(ifile)\n",
    "        for line in ufile:\n",
    "            if line.startswith('\\n'):\n",
    "                count = count \n",
    "            else:\n",
    "                count = count+1\n",
    "        print('There were %s subject lines in %s' %(count,ifile))\n",
    "    \n",
    "    except:\n",
    "        print('File cannot be opened:', ifile)\n"
   ]
  }
 ],
 "metadata": {
  "kernelspec": {
   "display_name": "Python 3 (ipykernel)",
   "language": "python",
   "name": "python3"
  },
  "language_info": {
   "codemirror_mode": {
    "name": "ipython",
    "version": 3
   },
   "file_extension": ".py",
   "mimetype": "text/x-python",
   "name": "python",
   "nbconvert_exporter": "python",
   "pygments_lexer": "ipython3",
   "version": "3.9.12"
  }
 },
 "nbformat": 4,
 "nbformat_minor": 5
}
