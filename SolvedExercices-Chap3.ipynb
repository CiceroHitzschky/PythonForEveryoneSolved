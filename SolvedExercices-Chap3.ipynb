{
 "cells": [
  {
   "cell_type": "markdown",
   "id": "4e782d2b",
   "metadata": {},
   "source": [
    "# Chapter 3: Conditional execution"
   ]
  },
  {
   "cell_type": "markdown",
   "id": "57b10598",
   "metadata": {},
   "source": [
    "## Exercise 1: Rewrite your pay computation to give the employee 1.5 times the hourly rate for hours worked above 40 hours.\n",
    "~~~Python\n",
    "Enter Hours: 45\n",
    "Enter Rate: 10\n",
    "Pay: 475.0\n",
    "~~~\n"
   ]
  },
  {
   "cell_type": "code",
   "execution_count": null,
   "id": "35b4bdca",
   "metadata": {},
   "outputs": [],
   "source": [
    "# Answer \n",
    "eh = input('Enter Hours:')\n",
    "er = input('Enter Rate:')\n",
    "fh = float(eh)\n",
    "fr = float(er)\n",
    "if fh > 40:\n",
    "    difference = fh - 40.0\n",
    "    pay = (difference*0.5 + fh) * fr\n",
    "else:\n",
    "    pay = fh * fr\n",
    "print('Pay:', pay)"
   ]
  },
  {
   "cell_type": "markdown",
   "id": "e12bc5c6",
   "metadata": {},
   "source": [
    "## Exercise 2: Rewrite your pay program using try and except so that your program handles non-numeric input gracefully by printing a message and exiting the program. The following shows two executions of the program:\n",
    "\n",
    "~~~Python\n",
    "Enter Hours: 20\n",
    "Enter Rate: nine\n",
    "Error, please enter numeric input\n",
    "~~~\n",
    "~~~Python\n",
    "Enter Hours: forty\n",
    "Error, please enter numeric input\n",
    "~~~"
   ]
  },
  {
   "cell_type": "code",
   "execution_count": null,
   "id": "07eaf72c",
   "metadata": {},
   "outputs": [],
   "source": [
    "# Answer \n",
    "eh = input('Enter Hours:')\n",
    "er = input('Enter Rate:')\n",
    "\n",
    "try:\n",
    "    fh = float(eh)\n",
    "    fr = float(er)\n",
    "    if fh > 40:\n",
    "        difference = fh - 40.0\n",
    "        pay = (difference*0.5 + fh) * fr\n",
    "    else:\n",
    "        pay = fh * fr\n",
    "    print('Pay:', pay)\n",
    "except:\n",
    "    print('Error, please enter numeric input')"
   ]
  },
  {
   "cell_type": "markdown",
   "id": "59dbd57c",
   "metadata": {},
   "source": [
    "## Exercise 3: Write a program to prompt for a score between 0.0 and 1.0. If the score is out of range, print an error message. If the score is between 0.0 and 1.0, print a grade using the following table:\n",
    "~~~Python\n",
    " Score   Grade\n",
    ">= 0.9     A\n",
    ">= 0.8     B\n",
    ">= 0.7     C\n",
    ">= 0.6     D\n",
    " < 0.6     F\n",
    "~~~\n",
    "~~~Python\n",
    "Enter score: 0.95\n",
    "A\n",
    "\n",
    "Enter score: perfect\n",
    "Bad score\n",
    "\n",
    "Enter score: 10.0\n",
    "Bad score\n",
    "\n",
    "Enter score: 0.75\n",
    "C\n",
    "\n",
    "Enter score: 0.5\n",
    "F\n",
    "~~~\n"
   ]
  },
  {
   "cell_type": "code",
   "execution_count": 22,
   "id": "ed7060f1",
   "metadata": {},
   "outputs": [
    {
     "name": "stdout",
     "output_type": "stream",
     "text": [
      "Enter score: 1263,\n",
      "Bad score\n"
     ]
    }
   ],
   "source": [
    "# Answer \n",
    "score = input('Enter score: ')\n",
    "try:\n",
    "    fscore = float(score)\n",
    "    if 0<fscore and fscore<1:\n",
    "        if fscore >=0.9:\n",
    "            print('A')\n",
    "        elif fscore >=0.8:\n",
    "            print('B')\n",
    "        elif fscore >=0.7:\n",
    "            print('C')\n",
    "        elif fscore >=0.6:\n",
    "            print('D')\n",
    "        elif fscore <0.6:\n",
    "            print('F')\n",
    "    else:\n",
    "        print('Bad score')\n",
    "except:\n",
    "    print('Bad score')\n"
   ]
  }
 ],
 "metadata": {
  "kernelspec": {
   "display_name": "Python 3 (ipykernel)",
   "language": "python",
   "name": "python3"
  },
  "language_info": {
   "codemirror_mode": {
    "name": "ipython",
    "version": 3
   },
   "file_extension": ".py",
   "mimetype": "text/x-python",
   "name": "python",
   "nbconvert_exporter": "python",
   "pygments_lexer": "ipython3",
   "version": "3.9.12"
  }
 },
 "nbformat": 4,
 "nbformat_minor": 5
}
