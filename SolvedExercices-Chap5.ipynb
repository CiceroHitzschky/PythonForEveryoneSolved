{
 "cells": [
  {
   "cell_type": "markdown",
   "id": "4e782d2b",
   "metadata": {},
   "source": [
    "# Chapter 5: Iteration"
   ]
  },
  {
   "cell_type": "markdown",
   "id": "57b10598",
   "metadata": {},
   "source": [
    "## Exercise 1: Write a program which repeatedly reads numbers until the user enters “done”. Once “done” is entered, print out the total, count, and average of the numbers. If the user enters anything other than a number, detect their mistake using try and except and print an error message and skip to the next number.\n",
    "~~~\n",
    "Enter a number: 4\n",
    "Enter a number: 5\n",
    "Enter a number: bad data\n",
    "Invalid input\n",
    "Enter a number: 7\n",
    "Enter a number: done\n",
    "16 3 5.333333333333333\n",
    "~~~\n"
   ]
  },
  {
   "cell_type": "code",
   "execution_count": 19,
   "id": "35b4bdca",
   "metadata": {},
   "outputs": [
    {
     "name": "stdout",
     "output_type": "stream",
     "text": [
      "Enter a number: 1\n",
      "Enter a number: 1\n",
      "Enter a number: sjdajsh\n",
      "Invalid input\n",
      "Enter a number: dha\n",
      "Invalid input\n",
      "Enter a number: done\n",
      "2.0 2 1.0\n"
     ]
    }
   ],
   "source": [
    "# Answer \n",
    "count = 0\n",
    "total = 0\n",
    "while True:\n",
    "    enter = input('Enter a number: ')\n",
    "    try:\n",
    "        num = float(enter)\n",
    "        count = count + 1\n",
    "        total = total + num\n",
    "    except:\n",
    "        if enter == 'done':\n",
    "            print(total,count, total/count)\n",
    "            break\n",
    "        else:\n",
    "            print('Invalid input')\n",
    "            continue\n",
    "        "
   ]
  },
  {
   "cell_type": "markdown",
   "id": "e12bc5c6",
   "metadata": {},
   "source": [
    "## Exercise 2: Write another program that prompts for a list of numbers as above and at the end prints out both the maximum and minimum of the numbers instead of the average.\n"
   ]
  },
  {
   "cell_type": "code",
   "execution_count": 21,
   "id": "07eaf72c",
   "metadata": {},
   "outputs": [
    {
     "name": "stdout",
     "output_type": "stream",
     "text": [
      "Enter a number: 1\n",
      "Enter a number: 1\n",
      "Enter a number: 1\n",
      "Enter a number: done\n",
      "3.0 3 3.0 3.0\n"
     ]
    }
   ],
   "source": [
    "# Answer \n",
    "\n",
    "count = 0\n",
    "total = 0\n",
    "while True:\n",
    "    enter = input('Enter a number: ')\n",
    "    if enter == 'done':\n",
    "            break\n",
    "    try:\n",
    "        num = float(enter)\n",
    "    except:\n",
    "        print('Invalid input')\n",
    "        continue\n",
    "    # count times and sum\n",
    "    count = count + 1\n",
    "    total = total + num\n",
    "    \n",
    "print(total,count, max(total,count),min(total,count))"
   ]
  }
 ],
 "metadata": {
  "kernelspec": {
   "display_name": "Python 3 (ipykernel)",
   "language": "python",
   "name": "python3"
  },
  "language_info": {
   "codemirror_mode": {
    "name": "ipython",
    "version": 3
   },
   "file_extension": ".py",
   "mimetype": "text/x-python",
   "name": "python",
   "nbconvert_exporter": "python",
   "pygments_lexer": "ipython3",
   "version": "3.9.12"
  }
 },
 "nbformat": 4,
 "nbformat_minor": 5
}
